{
 "cells": [
  {
   "cell_type": "code",
   "execution_count": 57,
   "id": "471abf53-b07a-402e-b3d0-e7c3f0c04810",
   "metadata": {},
   "outputs": [],
   "source": [
    "import numpy as np\n",
    "import pandas as pd\n",
    "import tensorflow as tf\n",
    "from tensorflow.keras.models import Sequential\n",
    "from tensorflow.keras.layers import Input\n",
    "from tensorflow.keras.layers import LSTM, Dense, Dropout, Bidirectional\n",
    "from sklearn.preprocessing import StandardScaler, LabelEncoder\n",
    "from sklearn.model_selection import train_test_split\n",
    "from tensorflow.keras.callbacks import EarlyStopping\n"
   ]
  },
  {
   "cell_type": "code",
   "execution_count": 45,
   "id": "7919cbd4-8efb-475a-b391-ab36b21717e4",
   "metadata": {},
   "outputs": [],
   "source": [
    "# Load dataset\n",
    "df = pd.read_csv('DDoS_dataset.csv') "
   ]
  },
  {
   "cell_type": "code",
   "execution_count": 46,
   "id": "1274da75-3cac-46f4-bbc3-c3f4cc995a54",
   "metadata": {},
   "outputs": [],
   "source": [
    "# Encode categorical features\n",
    "le = LabelEncoder()\n",
    "df['Highest Layer'] = le.fit_transform(df['Highest Layer'])\n",
    "df['Transport Layer'] = le.fit_transform(df['Transport Layer'])\n",
    "df['Dest IP'] = le.fit_transform(df['Dest IP'])\n"
   ]
  },
  {
   "cell_type": "code",
   "execution_count": 48,
   "id": "23478378-7d53-4684-a96f-622825115e72",
   "metadata": {},
   "outputs": [],
   "source": [
    "# Select features and label\n",
    "features = ['Highest Layer', 'Transport Layer', 'Source IP', 'Dest IP', 'Source Port', 'Dest Port', 'Packet Length', 'Packets/Time']\n",
    "label = 'Label'\n",
    "X = df[features]\n",
    "y = df[label]"
   ]
  },
  {
   "cell_type": "code",
   "execution_count": 51,
   "id": "b3a75615-911e-4f03-a1e5-a93fce4846a5",
   "metadata": {},
   "outputs": [],
   "source": [
    "# Normalize numerical features\n",
    "scaler = StandardScaler()\n",
    "X = scaler.fit_transform(X)"
   ]
  },
  {
   "cell_type": "code",
   "execution_count": 53,
   "id": "df653c3b-42ff-4585-85d6-9c0a49da485c",
   "metadata": {},
   "outputs": [],
   "source": [
    "# Convert data to time-series format\n",
    "def create_sequences(data, labels, time_steps=5):\n",
    "    sequences, labels_out = [], []\n",
    "    for i in range(len(data) - time_steps):\n",
    "        sequences.append(data[i:i + time_steps])\n",
    "        labels_out.append(labels[i + time_steps])\n",
    "    return np.array(sequences), np.array(labels_out)\n",
    "\n",
    "TIME_STEPS = 10  # Adjust based on analysis\n",
    "X_seq, y_seq = create_sequences(X, y, TIME_STEPS)\n"
   ]
  },
  {
   "cell_type": "code",
   "execution_count": 54,
   "id": "d3fc2913-9daf-439a-b021-5debfaf85433",
   "metadata": {},
   "outputs": [],
   "source": [
    "# Train-test split\n",
    "X_train, X_test, y_train, y_test = train_test_split(X_seq, y_seq, test_size=0.2, random_state=42)"
   ]
  },
  {
   "cell_type": "code",
   "execution_count": 31,
   "id": "c1999327-fb1b-4fd3-ba9c-109b7af870d3",
   "metadata": {},
   "outputs": [],
   "source": [
    "# Build LSTM Model\n",
    "model = Sequential([\n",
    "    Input(shape=(TIME_STEPS, X_train.shape[2])),  # Explicit Input Layer\n",
    "    Bidirectional(LSTM(64, return_sequences=True)),\n",
    "    Dropout(0.3),\n",
    "    Bidirectional(LSTM(32, return_sequences=False)),\n",
    "    Dense(16, activation='relu'),\n",
    "    Dropout(0.2),\n",
    "    Dense(1, activation='sigmoid')\n",
    "])"
   ]
  },
  {
   "cell_type": "code",
   "execution_count": 33,
   "id": "6f94c4da-70ff-4f6f-a9df-db7ccdec7466",
   "metadata": {},
   "outputs": [],
   "source": [
    "\n",
    "model.compile(loss='binary_crossentropy', optimizer='adam', metrics=['accuracy'])"
   ]
  },
  {
   "cell_type": "code",
   "execution_count": 59,
   "id": "cfc5b7b6-d786-4a57-8109-979079d50ae2",
   "metadata": {},
   "outputs": [
    {
     "name": "stdout",
     "output_type": "stream",
     "text": [
      "Epoch 1/10\n",
      "\u001b[1m21315/21315\u001b[0m \u001b[32m━━━━━━━━━━━━━━━━━━━━\u001b[0m\u001b[37m\u001b[0m \u001b[1m344s\u001b[0m 16ms/step - accuracy: 0.9995 - loss: 0.0022 - val_accuracy: 0.9994 - val_loss: 0.0020\n",
      "Epoch 2/10\n",
      "\u001b[1m21315/21315\u001b[0m \u001b[32m━━━━━━━━━━━━━━━━━━━━\u001b[0m\u001b[37m\u001b[0m \u001b[1m374s\u001b[0m 18ms/step - accuracy: 0.9995 - loss: 0.0023 - val_accuracy: 0.9995 - val_loss: 0.0019\n",
      "Epoch 3/10\n",
      "\u001b[1m21315/21315\u001b[0m \u001b[32m━━━━━━━━━━━━━━━━━━━━\u001b[0m\u001b[37m\u001b[0m \u001b[1m431s\u001b[0m 20ms/step - accuracy: 0.9995 - loss: 0.0024 - val_accuracy: 0.9995 - val_loss: 0.0020\n",
      "Epoch 4/10\n",
      "\u001b[1m21315/21315\u001b[0m \u001b[32m━━━━━━━━━━━━━━━━━━━━\u001b[0m\u001b[37m\u001b[0m \u001b[1m567s\u001b[0m 27ms/step - accuracy: 0.9995 - loss: 0.0021 - val_accuracy: 0.9996 - val_loss: 0.0020\n",
      "Epoch 5/10\n",
      "\u001b[1m21315/21315\u001b[0m \u001b[32m━━━━━━━━━━━━━━━━━━━━\u001b[0m\u001b[37m\u001b[0m \u001b[1m232s\u001b[0m 11ms/step - accuracy: 0.9996 - loss: 0.0021 - val_accuracy: 0.9995 - val_loss: 0.0019\n",
      "Epoch 6/10\n",
      "\u001b[1m21315/21315\u001b[0m \u001b[32m━━━━━━━━━━━━━━━━━━━━\u001b[0m\u001b[37m\u001b[0m \u001b[1m249s\u001b[0m 12ms/step - accuracy: 0.9995 - loss: 0.0022 - val_accuracy: 0.9996 - val_loss: 0.0019\n",
      "Epoch 7/10\n",
      "\u001b[1m21315/21315\u001b[0m \u001b[32m━━━━━━━━━━━━━━━━━━━━\u001b[0m\u001b[37m\u001b[0m \u001b[1m249s\u001b[0m 12ms/step - accuracy: 0.9995 - loss: 0.0020 - val_accuracy: 0.9996 - val_loss: 0.0018\n",
      "Epoch 8/10\n",
      "\u001b[1m21315/21315\u001b[0m \u001b[32m━━━━━━━━━━━━━━━━━━━━\u001b[0m\u001b[37m\u001b[0m \u001b[1m251s\u001b[0m 12ms/step - accuracy: 0.9996 - loss: 0.0019 - val_accuracy: 0.9996 - val_loss: 0.0017\n",
      "Epoch 9/10\n",
      "\u001b[1m21315/21315\u001b[0m \u001b[32m━━━━━━━━━━━━━━━━━━━━\u001b[0m\u001b[37m\u001b[0m \u001b[1m253s\u001b[0m 12ms/step - accuracy: 0.9996 - loss: 0.0019 - val_accuracy: 0.9996 - val_loss: 0.0019\n",
      "Epoch 10/10\n",
      "\u001b[1m21315/21315\u001b[0m \u001b[32m━━━━━━━━━━━━━━━━━━━━\u001b[0m\u001b[37m\u001b[0m \u001b[1m252s\u001b[0m 12ms/step - accuracy: 0.9995 - loss: 0.0022 - val_accuracy: 0.9995 - val_loss: 0.0018\n"
     ]
    },
    {
     "data": {
      "text/plain": [
       "<keras.src.callbacks.history.History at 0x211afcce780>"
      ]
     },
     "execution_count": 59,
     "metadata": {},
     "output_type": "execute_result"
    }
   ],
   "source": [
    "# to automatically stop training when performance stops improving \n",
    "early_stopping = EarlyStopping(monitor='val_loss', patience=3, restore_best_weights=True)\n",
    "# Train Model\n",
    "model.fit(X_train, y_train, validation_data=(X_test, y_test), epochs=10, batch_size=32,callbacks=[early_stopping])"
   ]
  },
  {
   "cell_type": "code",
   "execution_count": 61,
   "id": "dffb17dc-5576-406a-87fd-3e0d9e0c1bf2",
   "metadata": {},
   "outputs": [
    {
     "name": "stdout",
     "output_type": "stream",
     "text": [
      "✅ Model training complete & saved!\n"
     ]
    }
   ],
   "source": [
    "# Save Model\n",
    "model.save('ddos_lstm_model.keras')\n",
    "print('✅ Model training complete & saved!')\n"
   ]
  },
  {
   "cell_type": "code",
   "execution_count": 9,
   "id": "40571cf0-eb23-41bb-a9c2-acd02a2f6a86",
   "metadata": {},
   "outputs": [
    {
     "name": "stdout",
     "output_type": "stream",
     "text": [
      "✅ DDoS scalers and encoders saved successfully!\n"
     ]
    }
   ],
   "source": [
    "import pandas as pd\n",
    "import joblib\n",
    "from sklearn.preprocessing import StandardScaler, LabelEncoder\n",
    "\n",
    "# Load dataset\n",
    "df = pd.read_csv('DDoS_dataset.csv')\n",
    "\n",
    "# Encode categorical features\n",
    "le_highest = LabelEncoder()\n",
    "le_transport = LabelEncoder()\n",
    "\n",
    "df['Highest Layer'] = le_highest.fit_transform(df['Highest Layer'])\n",
    "df['Transport Layer'] = le_transport.fit_transform(df['Transport Layer'])\n",
    "df['Dest IP'] = le_transport.fit_transform(df['Dest IP'])\n",
    "le_highest.fit([\"ARP\", \"TCP\", \"UDP\"*5])\n",
    "le_transport.fit([\"UDP\", \"TCP\", \"ARP\"*5])\n",
    "# Select features\n",
    "features = ['Highest Layer', 'Transport Layer', 'Source IP', 'Dest IP', 'Source Port', 'Dest Port', 'Packet Length', 'Packets/Time']\n",
    "X = df[features]\n",
    "\n",
    "# Normalize numerical features\n",
    "scaler = StandardScaler()\n",
    "X_scaled = scaler.fit_transform(X)\n",
    "\n",
    "# Save encoders and scaler\n",
    "joblib.dump(scaler, \"ddos_scaler.pkl\")\n",
    "joblib.dump(le_highest, \"highest_layer_encoder.pkl\")\n",
    "joblib.dump(le_transport, \"transport_layer_encoder.pkl\")\n",
    "\n",
    "print(\"✅ DDoS scalers and encoders saved successfully!\")"
   ]
  },
  {
   "cell_type": "code",
   "execution_count": 9,
   "id": "3ab9f6fe-70fa-4524-9636-937417505365",
   "metadata": {},
   "outputs": [
    {
     "name": "stdout",
     "output_type": "stream",
     "text": [
      "✅ IP encoder saved successfully!\n"
     ]
    }
   ],
   "source": [
    "import pandas as pd\n",
    "import joblib\n",
    "from sklearn.preprocessing import LabelEncoder\n",
    "\n",
    "# Load dataset\n",
    "df = pd.read_csv('DDoS_dataset.csv')\n",
    "\n",
    "# Convert Source IP and Dest IP to strings, handling any numeric values\n",
    "df['Source IP'] = df['Source IP'].astype(str)\n",
    "df['Dest IP'] = df['Dest IP'].astype(str)\n",
    "\n",
    "# Create IP encoder\n",
    "le_ip = LabelEncoder()\n",
    "ips = pd.concat([df['Source IP'], df['Dest IP']]).unique()\n",
    "le_ip.fit(ips)\n",
    "\n",
    "# Save the encoder\n",
    "joblib.dump(le_ip, \"ip_encoder.pkl\")\n",
    "\n",
    "print(\"✅ IP encoder saved successfully!\")"
   ]
  },
  {
   "cell_type": "code",
   "execution_count": null,
   "id": "f8f38f04-e1a2-4aeb-8300-edac7687fe08",
   "metadata": {},
   "outputs": [],
   "source": []
  }
 ],
 "metadata": {
  "kernelspec": {
   "display_name": "Python [conda env:base] *",
   "language": "python",
   "name": "conda-base-py"
  },
  "language_info": {
   "codemirror_mode": {
    "name": "ipython",
    "version": 3
   },
   "file_extension": ".py",
   "mimetype": "text/x-python",
   "name": "python",
   "nbconvert_exporter": "python",
   "pygments_lexer": "ipython3",
   "version": "3.12.3"
  }
 },
 "nbformat": 4,
 "nbformat_minor": 5
}
